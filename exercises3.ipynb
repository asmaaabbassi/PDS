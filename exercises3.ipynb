{
 "metadata": {
  "language_info": {
   "codemirror_mode": {
    "name": "ipython",
    "version": 3
   },
   "file_extension": ".py",
   "mimetype": "text/x-python",
   "name": "python",
   "nbconvert_exporter": "python",
   "pygments_lexer": "ipython3",
   "version": "3.7.9-final"
  },
  "orig_nbformat": 2,
  "kernelspec": {
   "name": "python3",
   "display_name": "Python 3.7.9 64-bit (conda)",
   "metadata": {
    "interpreter": {
     "hash": "8c582ba49a6c065c1b2a573e9441c53c7402ec5eb3ada4b88a416f96448db9c7"
    }
   }
  }
 },
 "nbformat": 4,
 "nbformat_minor": 2,
 "cells": [
  {
   "cell_type": "code",
   "execution_count": 5,
   "metadata": {},
   "outputs": [],
   "source": [
    "import random as rd\n",
    "import numpy as np\n",
    "\n",
    "class Film:\n",
    "    # Constructor\n",
    "    def __init__(self, title: str, duration: int, min_age: int, director: str, ticket_price: float):\n",
    "        self.title = title\n",
    "        self.duration = duration\n",
    "        self.min_age = min_age\n",
    "        self.director = director\n",
    "        self.ticket_price = ticket_price\n",
    "\n",
    "\n",
    "class Spectator:\n",
    "    # Constructor\n",
    "    def __init__(self, id: int, money: float, age: int):\n",
    "        self.id = id\n",
    "        self.money = money\n",
    "        self.age = age\n",
    "\n",
    "class Seat:\n",
    "    # constructor\n",
    "    def __init__(self, row: int, column: str):\n",
    "        self.row = row\n",
    "        self.column = column\n",
    "        self.spect = None\n",
    "        self.isfree = self.spect==None\n",
    "    \n",
    "    def getSpect(self):\n",
    "        return self.spect\n",
    "\n",
    "    def getSeat(self):\n",
    "        if self.isfree:\n",
    "            return [self.row, self.column]\n",
    "        else:\n",
    "            return ['*S', f'*{self.spect.id}']\n",
    "    \n",
    "    def occup(self, Spectator: Spectator):\n",
    "        self.spect = Spectator\n",
    "\n",
    "    \n",
    "\n",
    "\n",
    "class Cinema:\n",
    "    # Constructor\n",
    "    def __init__(self, nbrow: int, nbcol: int, film: Film):\n",
    "        self.nbrow = nbrow\n",
    "        self.nbcol = nbcol\n",
    "        self.seats = np.array([Seat(r, c) for r in range(nbrow) for c in [chr(num + 65) for num in range(nbcol)]]).reshape(nbrow, nbcol)\n",
    "        self.histSpect = []\n",
    "        self.film = film\n",
    "        self.allocatedSpectators = []\n",
    "\n",
    "    def allocateSpectators(self, spectatorList):\n",
    "        freeseats = [self.seats[i, j] for i in range(self.nbrow) for j in range(self.nbcol) if self.seats[i, j].isfree]\n",
    "        for spectator in spectatorList:\n",
    "            if len(freeseats) > 0 and spectator.money >= self.film.ticket_price and spectator.age >= self.film.min_age:\n",
    "                seatgiven = rd.choice(freeseats)\n",
    "                seatgiven.occup(spectator)\n",
    "                seatgiven.isfree = False\n",
    "                self.seats[seatgiven.row, ord(seatgiven.column) -65] = seatgiven\n",
    "                self.histSpect.append(spectator)\n",
    "                self.allocatedSpectators.append(spectator)\n",
    "\n",
    "    def getAllocatedSpectators(self):\n",
    "        return self.allocatedSpectators\n",
    "\n",
    "    def showSeats(self):\n",
    "        print(\"-\" * self.nbcol*10)\n",
    "        print(\" \")\n",
    "        for i in range(self.nbrow):\n",
    "            line = [self.seats[i, j].getSeat() for j in range(self.nbcol)]\n",
    "            print(line)\n",
    "\n",
    "\n",
    "\n",
    "\n",
    "\n"
   ]
  },
  {
   "cell_type": "code",
   "execution_count": 6,
   "metadata": {},
   "outputs": [
    {
     "output_type": "stream",
     "name": "stdout",
     "text": [
      "--------------------------------------------------------------------------------\n \n[[0, 'A'], [0, 'B'], [0, 'C'], [0, 'D'], [0, 'E'], [0, 'F'], [0, 'G'], [0, 'H']]\n[[1, 'A'], [1, 'B'], [1, 'C'], [1, 'D'], [1, 'E'], [1, 'F'], [1, 'G'], [1, 'H']]\n[[2, 'A'], [2, 'B'], [2, 'C'], [2, 'D'], [2, 'E'], [2, 'F'], ['*S', '*2'], [2, 'H']]\n[[3, 'A'], [3, 'B'], [3, 'C'], [3, 'D'], [3, 'E'], [3, 'F'], [3, 'G'], [3, 'H']]\n[[4, 'A'], [4, 'B'], [4, 'C'], [4, 'D'], ['*S', '*1'], [4, 'F'], [4, 'G'], [4, 'H']]\n[[5, 'A'], [5, 'B'], [5, 'C'], [5, 'D'], [5, 'E'], [5, 'F'], [5, 'G'], [5, 'H']]\n[[6, 'A'], [6, 'B'], [6, 'C'], [6, 'D'], [6, 'E'], [6, 'F'], [6, 'G'], [6, 'H']]\n[[7, 'A'], [7, 'B'], [7, 'C'], [7, 'D'], [7, 'E'], [7, 'F'], [7, 'G'], [7, 'H']]\n"
     ]
    }
   ],
   "source": [
    "movie = Film(\"Madmax\", 15, 13, \"Miller\", 5)\n",
    "\n",
    "Monnier = Spectator(1, 10, 15)\n",
    "Marc = Spectator(2, 10, 15)\n",
    "\n",
    "\n",
    "Cine = Cinema(8, 8, movie)\n",
    "\n",
    "Cine.allocateSpectators([Monnier, Marc])\n",
    "\n",
    "Cine.showSeats()"
   ]
  }
 ]
}