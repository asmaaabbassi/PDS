{
 "cells": [
  {
   "cell_type": "code",
   "execution_count": 110,
   "metadata": {},
   "outputs": [],
   "source": [
    "import pandas as pd\r\n",
    "import csv\r\n",
    "import math\r\n",
    "from datetime import datetime\r\n",
    "from dateutil.relativedelta import relativedelta\r\n",
    "import numpy as np"
   ]
  },
  {
   "cell_type": "code",
   "execution_count": 111,
   "metadata": {},
   "outputs": [],
   "source": [
    "stocks_df = pd.read_csv('../data_harvesting/amundi-msci-wrld-ae-c.csv')\r\n",
    "cbonds_df = pd.read_csv('../data_harvesting/ishares-global-corporate-bond.csv')\r\n",
    "sbonds_df = pd.read_csv('../data_harvesting/db-x-trackers-ii-global-sovereign-5.csv')\r\n",
    "gold_df = pd.read_csv('../data_harvesting/spdr-gold-trust.csv')\r\n",
    "usd_df = pd.read_csv('../data_harvesting/usdollar.csv')\r\n",
    "\r\n",
    "portfolio_df = pd.read_csv('../portfolio_allocations/portfolio_allocations.csv')"
   ]
  },
  {
   "cell_type": "code",
   "execution_count": 112,
   "metadata": {},
   "outputs": [],
   "source": [
    "def previous_neighbor(L, n):\r\n",
    "    m = 0\r\n",
    "    j = 0\r\n",
    "    for i, x in enumerate(L):\r\n",
    "        if x < n and x > m:\r\n",
    "            m = x\r\n",
    "            j = i\r\n",
    "    return j\r\n",
    "\r\n",
    "def missing_value(df, month):\r\n",
    "    df_month = df[df['Date'].str.contains(month)]\r\n",
    "\r\n",
    "    days = []\r\n",
    "    for index, row in df_month.iterrows():\r\n",
    "        days.append(int(row[0][4:6]))\r\n",
    "    \r\n",
    "    if 15 not in days:\r\n",
    "        index_change = previous_neighbor(days, 15) + df_month.index[0]\r\n",
    "        new_value = df_month.iloc[len(df_month)//2]['Date'][0:3] + ' 15' + df_month.iloc[len(df_month)//2]['Date'][6:]\r\n",
    "        df.at[index_change, 'Date'] = new_value\r\n",
    "\r\n",
    "\r\n",
    "def replace():\r\n",
    "    files = [stocks_df, cbonds_df, sbonds_df, gold_df, usd_df]\r\n",
    "    months = ['Jan', 'Feb', 'Mar', 'Apr', 'May', 'Jun', 'Jul', 'Aug', 'Sep', 'Oct', 'Nov', 'Dec']\r\n",
    "    \r\n",
    "    for file in files:\r\n",
    "        for month in months:\r\n",
    "            missing_value(file, month)\r\n",
    "    \r\n",
    "\r\n"
   ]
  },
  {
   "cell_type": "code",
   "execution_count": 113,
   "metadata": {},
   "outputs": [],
   "source": [
    "replace()"
   ]
  },
  {
   "cell_type": "code",
   "execution_count": 130,
   "metadata": {},
   "outputs": [
    {
     "name": "stdout",
     "output_type": "stream",
     "text": [
      "             Date   Price    Open    High     Low   Vol. Change %\n",
      "0    Dec 30, 2020  253.84  253.82  253.95  253.42  1.98K    0.01%\n",
      "1    Dec 29, 2020  253.82  253.70  253.82  253.41  1.69K    0.11%\n",
      "2    Dec 28, 2020  253.55  254.18  254.29  253.50  1.49K   -0.25%\n",
      "3    Dec 23, 2020  254.18  254.90  255.10  253.67  3.36K   -0.37%\n",
      "4    Dec 22, 2020  255.13  254.47  255.13  253.33  4.34K    0.28%\n",
      "..            ...     ...     ...     ...     ...    ...      ...\n",
      "250  Jan 08, 2020  254.82  254.80  254.82  254.28  1.13K    0.18%\n",
      "251  Jan 07, 2020  254.36  253.66  254.60  253.63  0.91K    0.08%\n",
      "252  Jan 06, 2020  254.16  254.42  254.42  254.40  0.05K   -0.38%\n",
      "253  Jan 03, 2020  255.12  254.73  255.62  254.41  3.72K    0.73%\n",
      "254  Jan 02, 2020  253.28  252.28  253.55  252.02  0.47K    0.29%\n",
      "\n",
      "[255 rows x 7 columns]\n",
      "   Unnamed: 0    ST    CB    PB    GO    CA\n",
      "0           0  1.00  0.00  0.00  0.00  0.00\n",
      "1           1  0.95  0.05  0.00  0.00  0.00\n",
      "2           2  0.95  0.00  0.05  0.00  0.00\n",
      "3           3  0.95  0.00  0.00  0.05  0.00\n",
      "4           4  0.95  0.00  0.00  0.00  0.05\n",
      "stocks price: 181.47\n",
      "cbonds price: 83.04\n",
      "sbonds price: 261.9\n",
      "gold price: 166.62\n"
     ]
    }
   ],
   "source": [
    "#input data\r\n",
    "amount = 100000\r\n",
    "inv_date = datetime(2020, 7, 1)\r\n",
    "inv_period = 3\r\n",
    "\r\n",
    "print(sbonds_df)\r\n",
    "print(portfolio_df.head())\r\n",
    "\r\n",
    "#prices\r\n",
    "stocks_index = stocks_df.loc[stocks_df['Date'] == inv_date.strftime('%b %d, %Y')]\r\n",
    "if stocks_index.empty:\r\n",
    "        print(\"No price data for date, stocks!\")\r\n",
    "stocks_price = stocks_index.iloc[0]['Price']\r\n",
    "\r\n",
    "cbonds_index = cbonds_df.loc[cbonds_df['Date'] == inv_date.strftime('%b %d, %Y')]\r\n",
    "if cbonds_index.empty:\r\n",
    "        print(\"No price data for date, cbonds!\")\r\n",
    "cbonds_price = cbonds_index.iloc[0]['Price']\r\n",
    "\r\n",
    "sbonds_index = sbonds_df.loc[sbonds_df['Date'] == inv_date.strftime('%b %d, %Y')]\r\n",
    "if sbonds_index.empty:\r\n",
    "        print(\"No price data for date!, sbonds\")\r\n",
    "sbonds_price = sbonds_index.iloc[0]['Price']\r\n",
    "\r\n",
    "gold_index = gold_df.loc[gold_df['Date'] == inv_date.strftime('%b %d, %Y')]\r\n",
    "if gold_index.empty:\r\n",
    "        print(\"No price data for date, gold!\")\r\n",
    "gold_price = gold_index.iloc[0]['Price']\r\n",
    "\r\n",
    "usd_price = 1\r\n",
    "\r\n",
    "print(\"stocks price:\", stocks_price)\r\n",
    "print(\"cbonds price:\", cbonds_price)\r\n",
    "print(\"sbonds price:\", sbonds_price)\r\n",
    "print(\"gold price:\", gold_price)\r\n",
    "\r\n"
   ]
  },
  {
   "cell_type": "code",
   "execution_count": 131,
   "metadata": {},
   "outputs": [
    {
     "name": "stdout",
     "output_type": "stream",
     "text": [
      "one-off, no rebalance done\n"
     ]
    }
   ],
   "source": [
    "methodsFile = '../trading_methodologies/trading_methodologies.csv'\r\n",
    "with open(methodsFile, 'w', newline = '') as csvfile:\r\n",
    "        writer = csv.writer(csvfile)\r\n",
    "        writer.writerow([\"Date\", \"Trading method\", \"Allocation no\", \"Asset\", \"Weight of asset\", \"Asset price\", \"Amount to buy\", \"Total spending\", \"Investment period\"])\r\n",
    "\r\n",
    "#one-off, no rebalance\r\n",
    "\r\n",
    "for index, row in portfolio_df.iterrows():\r\n",
    "\r\n",
    "    allocation_index = row[0]\r\n",
    "    stocks_rate = row['ST']*amount\r\n",
    "    cbonds_rate = row['CB']*amount\r\n",
    "    sbonds_rate = row['PB']*amount\r\n",
    "    gold_rate = row['GO']*amount\r\n",
    "    usd_rate = row['CA']*amount\r\n",
    "\r\n",
    "\r\n",
    "        #number of assets to buy from each\r\n",
    "    stocks_amt = math.floor(stocks_rate/stocks_price)\r\n",
    "    cbonds_amt = math.floor(cbonds_rate/cbonds_price)\r\n",
    "    sbonds_amt = math.floor(sbonds_rate/sbonds_price)\r\n",
    "    gold_amt = math.floor(gold_rate/gold_price)\r\n",
    "    usd_amt = math.floor(usd_rate/usd_price)\r\n",
    "\r\n",
    "\r\n",
    "        #amount of money to invest in each\r\n",
    "\r\n",
    "    stocks_spend = round(stocks_amt*stocks_price,2)\r\n",
    "    cbonds_spend = round(cbonds_amt*cbonds_price,2)\r\n",
    "    sbonds_spend = round(sbonds_amt*sbonds_price,2)\r\n",
    "    gold_spend = round(gold_amt*gold_price,2)\r\n",
    "    usd_spend = round(usd_amt*usd_price,2)\r\n",
    "\r\n",
    "\r\n",
    "    output = []\r\n",
    "    output.append(tuple([inv_date.strftime('%b %d, %Y'),\"One-off\", str(index + 1),  \"stocks\", row['ST'], stocks_price, stocks_amt, stocks_spend, inv_period]))\r\n",
    "    output.append(tuple([inv_date.strftime('%b %d, %Y'),\"One-off\", str(index + 1),  \"cbonds\",row['CB'], cbonds_price, cbonds_amt, cbonds_spend, inv_period]))\r\n",
    "    output.append(tuple([inv_date.strftime('%b %d, %Y'),\"One-off\", str(index + 1),  \"sbonds\", row['PB'], sbonds_price, sbonds_amt, sbonds_spend, inv_period]))\r\n",
    "    output.append(tuple([inv_date.strftime('%b %d, %Y'),\"One-off\", str(index + 1),  \"gold\", row['GO'], gold_price, gold_amt, gold_spend, inv_period]))\r\n",
    "    output.append(tuple([inv_date.strftime('%b %d, %Y'),\"One-off\", str(index + 1),  \"cash\", row['CA'], usd_price, usd_amt, usd_spend, inv_period]))\r\n",
    "\r\n",
    "    with open(methodsFile, 'a+', newline = '') as file:\r\n",
    "        writer = csv.writer(file)\r\n",
    "        for x in output:\r\n",
    "            writer.writerow(x)\r\n",
    "\r\n",
    "print(\"one-off, no rebalance done\")"
   ]
  },
  {
   "cell_type": "code",
   "execution_count": 132,
   "metadata": {},
   "outputs": [
    {
     "data": {
      "text/plain": "Index(['Date', 'Trading method', 'Allocation no', 'Asset', 'Weight of asset',\n       'Asset price', 'Amount to buy', 'Total spending', 'Investment period'],\n      dtype='object')"
     },
     "execution_count": 132,
     "metadata": {},
     "output_type": "execute_result"
    }
   ],
   "source": [
    "oneoff_df = pd.read_csv('trading_methodologies.csv')\r\n",
    "oneoff_df = oneoff_df[oneoff_df['Trading method'] == 'One-off']\r\n",
    "oneoff_df.columns"
   ]
  },
  {
   "cell_type": "code",
   "execution_count": 133,
   "metadata": {},
   "outputs": [],
   "source": [
    "#one-off, rebalance\r\n",
    "oneoff_df = pd.read_csv('trading_methodologies2.csv')\r\n",
    "oneoff_df = oneoff_df[oneoff_df['Trading method'] == 'One-off']\r\n",
    "oneoff_rebal = oneoff_df.copy()\r\n",
    "oneoff_rebal =  oneoff_rebal.replace({\"One-off\": \"Oneoff-rebal\"})\r\n",
    "assets = ['stocks', 'cbonds', 'sbonds', 'gold', 'cash']\r\n",
    "\r\n",
    "def new_quantities(allocation, date, prec_portofolio):\r\n",
    "    stocks_w = allocation[0]\r\n",
    "    cbonds_w = allocation[1]\r\n",
    "    sbonds_w = allocation[2]\r\n",
    "    gold_w = allocation[3]\r\n",
    "    usd_w = allocation[4]\r\n",
    "\r\n",
    "    amount_to_buy = list(prec_portofolio['Amount to buy'])\r\n",
    "    stocks_q = amount_to_buy[0]\r\n",
    "    cbonds_q = amount_to_buy[1]\r\n",
    "    sbonds_q = amount_to_buy[2]\r\n",
    "    gold_q = amount_to_buy[3]\r\n",
    "    usd_q = amount_to_buy[4]\r\n",
    "\r\n",
    "    stocks_index = stocks_df.loc[stocks_df['Date'] == date.strftime('%b %d, %Y')]\r\n",
    "    stocks_price = stocks_index.iloc[0]['Price']\r\n",
    "    cbonds_index = cbonds_df.loc[cbonds_df['Date'] == date.strftime('%b %d, %Y')]\r\n",
    "    cbonds_price = cbonds_index.iloc[0]['Price']\r\n",
    "    sbonds_index = sbonds_df.loc[sbonds_df['Date'] == date.strftime('%b %d, %Y')]\r\n",
    "    sbonds_price = sbonds_index.iloc[0]['Price']\r\n",
    "    gold_index = gold_df.loc[gold_df['Date'] == date.strftime('%b %d, %Y')]\r\n",
    "    gold_price = gold_index.iloc[0]['Price']\r\n",
    "    usd_price = 1\r\n",
    "\r\n",
    "    prices = [stocks_price, cbonds_price, sbonds_price, gold_price, usd_price]\r\n",
    "\r\n",
    "    #How much money do I have in total\r\n",
    "    total_usd = stocks_q*stocks_price + cbonds_q*cbonds_price + sbonds_q*sbonds_price + gold_q*gold_price + usd_q\r\n",
    "\r\n",
    "    def new_quantity(w, price, total):\r\n",
    "        quantity = total*w // price\r\n",
    "        return quantity\r\n",
    "\r\n",
    "    new_quantities = []\r\n",
    "    for i in range(len(allocation)):\r\n",
    "        new_quantities.append(new_quantity(allocation[i], prices[i], total_usd))\r\n",
    "\r\n",
    "    return new_quantities, prices\r\n",
    "\r\n",
    "\r\n",
    "def rebalancing(allocation_no, allocation, inv_date, nb_months, portofolio):\r\n",
    "    rebal_portofolio1 = rebal_portofolio.append(portofolio)\r\n",
    "    first_year, first_month = inv_date.year, inv_date.month\r\n",
    "    dates = [datetime(first_year, first_month, 15)]\r\n",
    "    #Dates à choisir en fonction de s'il existe ou pas\r\n",
    "    for i in range(nb_months-1):\r\n",
    "        month = inv_date.month + i + 1\r\n",
    "        year = first_year + month // 12\r\n",
    "        month = month % 12\r\n",
    "        if month == 0:\r\n",
    "            month = 12\r\n",
    "        dates.append(datetime(year, month, 15))\r\n",
    "\r\n",
    "    for date in dates:\r\n",
    "        prec_portofolio = portofolio[-5:]\r\n",
    "        new_portofolio = pd.DataFrame(columns=['Date','Trading method', 'Allocation no', 'Asset', 'Weight of asset', 'Asset price', 'Amount to buy', 'Total spending', 'Investment period'])\r\n",
    "        new_quantity, prices = new_quantities(allocation, date, prec_portofolio)\r\n",
    "        \r\n",
    "        new_portofolio['Date'] = [date.strftime('%b %d, %Y') for _ in range(5)]\r\n",
    "        new_portofolio['Trading method'] = [\"Oneoff-rebal\" for _ in range(5)]\r\n",
    "        new_portofolio[\"Allocation no\"] = [allocation_no for _ in range(5)]\r\n",
    "        new_portofolio['Asset'] = assets\r\n",
    "        new_portofolio['Weight of asset'] = allocation\r\n",
    "        new_portofolio['Asset price'] = prices\r\n",
    "        new_portofolio['Amount to buy'] = new_quantity\r\n",
    "        new_portofolio['Total spending'] = np.multiply(prices, new_quantity)\r\n",
    "        new_portofolio['Investment period'] = nb_months\r\n",
    "\r\n",
    "        rebal_portofolio1 = rebal_portofolio1.append(new_portofolio)\r\n",
    "\r\n",
    "    return rebal_portofolio1\r\n"
   ]
  },
  {
   "cell_type": "code",
   "execution_count": 138,
   "metadata": {},
   "outputs": [
    {
     "name": "stdout",
     "output_type": "stream",
     "text": [
      "..................................................................................................................................................................................................................................................................................................................................................................................................................................................................................................................................................................................................................................................................................................................................................................................................................................................................................................................................................................................................................................................................................................................................................................................................................................................................................................................................................................................................................................................................................................................................................................................................................................................................................................................................................................................................................................................................................................................................................................................................................................................................................................................................................................................................................................................................................................................................................................................................................................................................................................................................................................................................................................................................................................................................................................................................................................................................................................................................................................................................................................................................................................................................................................................................................................................................................................................................................................................................................................................................................................................................................................................................................................................................................................................................................................................................................................................................................................................................................................................................................................................................................................................................................................................................................................................................................................................................................................................................................................................................................................................................................................................................................................................................................................................................................................................................................................................................................................................................................................................................................................................................................................................................................................................................................................................................................................................................................................................................................................................................................................................................................................................................................................................................................................................................................................................................................................................................................................................................................................................................................................................................................................................................................................................................................................................................................................................................................................................................................................................................................................................................................................................................................................................................................................................................................................................................................................................................................................................................................................................................................................................................................................................................................................................................................................................................................................................................................................................................................................................................................................................................................................................................................................................................................................................................................................................................................................................................................................................................................................................................................................................................................................................................................................................................................................................................................................................................................................................................................................................................................................................................................................................................................................................................................................................................................................................................................................................................................................................................................................................................................................................................................................................................................................................................................................................................................................................................................................................................................................................................................................................................................................................................................................................................................................................................................................................................................................................................................................................................................................................................................................................................................................................................................................................................................................................................................................................................................................................................................................................................................................................................................................................................................................................................................................................................................................................................................................................................................................................................................................................................................................................................one-off with rebalance done\n"
     ]
    }
   ],
   "source": [
    "#making the real portofolio\r\n",
    "rebal_portofolio = pd.DataFrame(columns=['Date','Trading method', 'Allocation no', 'Asset', 'Weight of asset', 'Asset price', 'Amount to buy', 'Total spending', 'Investment period'])\r\n",
    "\r\n",
    "for iteration, row in portfolio_df.iterrows():\r\n",
    "    print('.', flush=True, end='')\r\n",
    "    initial_portofolio = oneoff_df.loc[oneoff_df['Allocation no'] == iteration + 1]\r\n",
    "    rebal_portofolio = rebalancing(iteration + 1, list(row[1:]), inv_date, 3, initial_portofolio)\r\n",
    "\r\n",
    "rebal_portofolio = rebal_portofolio.replace({\"One-off\": \"Oneoff-rebal\"}) \r\n",
    "\r\n",
    "print(\"one-off with rebalance done\")"
   ]
  },
  {
   "cell_type": "code",
   "execution_count": 141,
   "metadata": {},
   "outputs": [
    {
     "data": {
      "text/html": "<div>\n<style scoped>\n    .dataframe tbody tr th:only-of-type {\n        vertical-align: middle;\n    }\n\n    .dataframe tbody tr th {\n        vertical-align: top;\n    }\n\n    .dataframe thead th {\n        text-align: right;\n    }\n</style>\n<table border=\"1\" class=\"dataframe\">\n  <thead>\n    <tr style=\"text-align: right;\">\n      <th></th>\n      <th>Date</th>\n      <th>Trading method</th>\n      <th>Allocation no</th>\n      <th>Asset</th>\n      <th>Weight of asset</th>\n      <th>Asset price</th>\n      <th>Amount to buy</th>\n      <th>Total spending</th>\n      <th>Investment period</th>\n    </tr>\n  </thead>\n  <tbody>\n    <tr>\n      <th>0</th>\n      <td>Aug 15, 2020</td>\n      <td>Oneoff-rebal</td>\n      <td>10624</td>\n      <td>stocks</td>\n      <td>0.00</td>\n      <td>186.69</td>\n      <td>0.0</td>\n      <td>0.0</td>\n      <td>3</td>\n    </tr>\n    <tr>\n      <th>1</th>\n      <td>Aug 15, 2020</td>\n      <td>Oneoff-rebal</td>\n      <td>10624</td>\n      <td>cbonds</td>\n      <td>0.00</td>\n      <td>83.04</td>\n      <td>0.0</td>\n      <td>0.0</td>\n      <td>3</td>\n    </tr>\n    <tr>\n      <th>2</th>\n      <td>Aug 15, 2020</td>\n      <td>Oneoff-rebal</td>\n      <td>10624</td>\n      <td>sbonds</td>\n      <td>0.00</td>\n      <td>261.90</td>\n      <td>0.0</td>\n      <td>0.0</td>\n      <td>3</td>\n    </tr>\n    <tr>\n      <th>3</th>\n      <td>Aug 15, 2020</td>\n      <td>Oneoff-rebal</td>\n      <td>10624</td>\n      <td>gold</td>\n      <td>0.10</td>\n      <td>166.62</td>\n      <td>60.0</td>\n      <td>9997.2</td>\n      <td>3</td>\n    </tr>\n    <tr>\n      <th>4</th>\n      <td>Aug 15, 2020</td>\n      <td>Oneoff-rebal</td>\n      <td>10624</td>\n      <td>cash</td>\n      <td>0.90</td>\n      <td>1.00</td>\n      <td>89997.0</td>\n      <td>89997.0</td>\n      <td>3</td>\n    </tr>\n    <tr>\n      <th>0</th>\n      <td>Sep 15, 2020</td>\n      <td>Oneoff-rebal</td>\n      <td>10624</td>\n      <td>stocks</td>\n      <td>0.00</td>\n      <td>188.44</td>\n      <td>0.0</td>\n      <td>0.0</td>\n      <td>3</td>\n    </tr>\n    <tr>\n      <th>1</th>\n      <td>Sep 15, 2020</td>\n      <td>Oneoff-rebal</td>\n      <td>10624</td>\n      <td>cbonds</td>\n      <td>0.00</td>\n      <td>83.04</td>\n      <td>0.0</td>\n      <td>0.0</td>\n      <td>3</td>\n    </tr>\n    <tr>\n      <th>2</th>\n      <td>Sep 15, 2020</td>\n      <td>Oneoff-rebal</td>\n      <td>10624</td>\n      <td>sbonds</td>\n      <td>0.00</td>\n      <td>261.90</td>\n      <td>0.0</td>\n      <td>0.0</td>\n      <td>3</td>\n    </tr>\n    <tr>\n      <th>3</th>\n      <td>Sep 15, 2020</td>\n      <td>Oneoff-rebal</td>\n      <td>10624</td>\n      <td>gold</td>\n      <td>0.10</td>\n      <td>166.62</td>\n      <td>60.0</td>\n      <td>9997.2</td>\n      <td>3</td>\n    </tr>\n    <tr>\n      <th>4</th>\n      <td>Sep 15, 2020</td>\n      <td>Oneoff-rebal</td>\n      <td>10624</td>\n      <td>cash</td>\n      <td>0.90</td>\n      <td>1.00</td>\n      <td>89997.0</td>\n      <td>89997.0</td>\n      <td>3</td>\n    </tr>\n    <tr>\n      <th>53120</th>\n      <td>Jul 01, 2020</td>\n      <td>Oneoff-rebal</td>\n      <td>10625</td>\n      <td>stocks</td>\n      <td>0.00</td>\n      <td>181.47</td>\n      <td>0.0</td>\n      <td>0.0</td>\n      <td>3</td>\n    </tr>\n    <tr>\n      <th>53121</th>\n      <td>Jul 01, 2020</td>\n      <td>Oneoff-rebal</td>\n      <td>10625</td>\n      <td>cbonds</td>\n      <td>0.00</td>\n      <td>83.04</td>\n      <td>0.0</td>\n      <td>0.0</td>\n      <td>3</td>\n    </tr>\n    <tr>\n      <th>53122</th>\n      <td>Jul 01, 2020</td>\n      <td>Oneoff-rebal</td>\n      <td>10625</td>\n      <td>sbonds</td>\n      <td>0.00</td>\n      <td>261.90</td>\n      <td>0.0</td>\n      <td>0.0</td>\n      <td>3</td>\n    </tr>\n    <tr>\n      <th>53123</th>\n      <td>Jul 01, 2020</td>\n      <td>Oneoff-rebal</td>\n      <td>10625</td>\n      <td>gold</td>\n      <td>0.05</td>\n      <td>166.62</td>\n      <td>30.0</td>\n      <td>4998.6</td>\n      <td>3</td>\n    </tr>\n    <tr>\n      <th>53124</th>\n      <td>Jul 01, 2020</td>\n      <td>Oneoff-rebal</td>\n      <td>10625</td>\n      <td>cash</td>\n      <td>0.95</td>\n      <td>1.00</td>\n      <td>95000.0</td>\n      <td>95000.0</td>\n      <td>3</td>\n    </tr>\n    <tr>\n      <th>0</th>\n      <td>Jul 15, 2020</td>\n      <td>Oneoff-rebal</td>\n      <td>10625</td>\n      <td>stocks</td>\n      <td>0.00</td>\n      <td>186.19</td>\n      <td>0.0</td>\n      <td>0.0</td>\n      <td>3</td>\n    </tr>\n    <tr>\n      <th>1</th>\n      <td>Jul 15, 2020</td>\n      <td>Oneoff-rebal</td>\n      <td>10625</td>\n      <td>cbonds</td>\n      <td>0.00</td>\n      <td>83.04</td>\n      <td>0.0</td>\n      <td>0.0</td>\n      <td>3</td>\n    </tr>\n    <tr>\n      <th>2</th>\n      <td>Jul 15, 2020</td>\n      <td>Oneoff-rebal</td>\n      <td>10625</td>\n      <td>sbonds</td>\n      <td>0.00</td>\n      <td>261.90</td>\n      <td>0.0</td>\n      <td>0.0</td>\n      <td>3</td>\n    </tr>\n    <tr>\n      <th>3</th>\n      <td>Jul 15, 2020</td>\n      <td>Oneoff-rebal</td>\n      <td>10625</td>\n      <td>gold</td>\n      <td>0.05</td>\n      <td>166.62</td>\n      <td>30.0</td>\n      <td>4998.6</td>\n      <td>3</td>\n    </tr>\n    <tr>\n      <th>4</th>\n      <td>Jul 15, 2020</td>\n      <td>Oneoff-rebal</td>\n      <td>10625</td>\n      <td>cash</td>\n      <td>0.95</td>\n      <td>1.00</td>\n      <td>94998.0</td>\n      <td>94998.0</td>\n      <td>3</td>\n    </tr>\n    <tr>\n      <th>0</th>\n      <td>Aug 15, 2020</td>\n      <td>Oneoff-rebal</td>\n      <td>10625</td>\n      <td>stocks</td>\n      <td>0.00</td>\n      <td>186.69</td>\n      <td>0.0</td>\n      <td>0.0</td>\n      <td>3</td>\n    </tr>\n    <tr>\n      <th>1</th>\n      <td>Aug 15, 2020</td>\n      <td>Oneoff-rebal</td>\n      <td>10625</td>\n      <td>cbonds</td>\n      <td>0.00</td>\n      <td>83.04</td>\n      <td>0.0</td>\n      <td>0.0</td>\n      <td>3</td>\n    </tr>\n    <tr>\n      <th>2</th>\n      <td>Aug 15, 2020</td>\n      <td>Oneoff-rebal</td>\n      <td>10625</td>\n      <td>sbonds</td>\n      <td>0.00</td>\n      <td>261.90</td>\n      <td>0.0</td>\n      <td>0.0</td>\n      <td>3</td>\n    </tr>\n    <tr>\n      <th>3</th>\n      <td>Aug 15, 2020</td>\n      <td>Oneoff-rebal</td>\n      <td>10625</td>\n      <td>gold</td>\n      <td>0.05</td>\n      <td>166.62</td>\n      <td>30.0</td>\n      <td>4998.6</td>\n      <td>3</td>\n    </tr>\n    <tr>\n      <th>4</th>\n      <td>Aug 15, 2020</td>\n      <td>Oneoff-rebal</td>\n      <td>10625</td>\n      <td>cash</td>\n      <td>0.95</td>\n      <td>1.00</td>\n      <td>94998.0</td>\n      <td>94998.0</td>\n      <td>3</td>\n    </tr>\n    <tr>\n      <th>0</th>\n      <td>Sep 15, 2020</td>\n      <td>Oneoff-rebal</td>\n      <td>10625</td>\n      <td>stocks</td>\n      <td>0.00</td>\n      <td>188.44</td>\n      <td>0.0</td>\n      <td>0.0</td>\n      <td>3</td>\n    </tr>\n    <tr>\n      <th>1</th>\n      <td>Sep 15, 2020</td>\n      <td>Oneoff-rebal</td>\n      <td>10625</td>\n      <td>cbonds</td>\n      <td>0.00</td>\n      <td>83.04</td>\n      <td>0.0</td>\n      <td>0.0</td>\n      <td>3</td>\n    </tr>\n    <tr>\n      <th>2</th>\n      <td>Sep 15, 2020</td>\n      <td>Oneoff-rebal</td>\n      <td>10625</td>\n      <td>sbonds</td>\n      <td>0.00</td>\n      <td>261.90</td>\n      <td>0.0</td>\n      <td>0.0</td>\n      <td>3</td>\n    </tr>\n    <tr>\n      <th>3</th>\n      <td>Sep 15, 2020</td>\n      <td>Oneoff-rebal</td>\n      <td>10625</td>\n      <td>gold</td>\n      <td>0.05</td>\n      <td>166.62</td>\n      <td>30.0</td>\n      <td>4998.6</td>\n      <td>3</td>\n    </tr>\n    <tr>\n      <th>4</th>\n      <td>Sep 15, 2020</td>\n      <td>Oneoff-rebal</td>\n      <td>10625</td>\n      <td>cash</td>\n      <td>0.95</td>\n      <td>1.00</td>\n      <td>94998.0</td>\n      <td>94998.0</td>\n      <td>3</td>\n    </tr>\n    <tr>\n      <th>53125</th>\n      <td>Jul 01, 2020</td>\n      <td>Oneoff-rebal</td>\n      <td>10626</td>\n      <td>stocks</td>\n      <td>0.00</td>\n      <td>181.47</td>\n      <td>0.0</td>\n      <td>0.0</td>\n      <td>3</td>\n    </tr>\n    <tr>\n      <th>53126</th>\n      <td>Jul 01, 2020</td>\n      <td>Oneoff-rebal</td>\n      <td>10626</td>\n      <td>cbonds</td>\n      <td>0.00</td>\n      <td>83.04</td>\n      <td>0.0</td>\n      <td>0.0</td>\n      <td>3</td>\n    </tr>\n    <tr>\n      <th>53127</th>\n      <td>Jul 01, 2020</td>\n      <td>Oneoff-rebal</td>\n      <td>10626</td>\n      <td>sbonds</td>\n      <td>0.00</td>\n      <td>261.90</td>\n      <td>0.0</td>\n      <td>0.0</td>\n      <td>3</td>\n    </tr>\n    <tr>\n      <th>53128</th>\n      <td>Jul 01, 2020</td>\n      <td>Oneoff-rebal</td>\n      <td>10626</td>\n      <td>gold</td>\n      <td>0.00</td>\n      <td>166.62</td>\n      <td>0.0</td>\n      <td>0.0</td>\n      <td>3</td>\n    </tr>\n    <tr>\n      <th>53129</th>\n      <td>Jul 01, 2020</td>\n      <td>Oneoff-rebal</td>\n      <td>10626</td>\n      <td>cash</td>\n      <td>1.00</td>\n      <td>1.00</td>\n      <td>100000.0</td>\n      <td>100000.0</td>\n      <td>3</td>\n    </tr>\n    <tr>\n      <th>0</th>\n      <td>Jul 15, 2020</td>\n      <td>Oneoff-rebal</td>\n      <td>10626</td>\n      <td>stocks</td>\n      <td>0.00</td>\n      <td>186.19</td>\n      <td>0.0</td>\n      <td>0.0</td>\n      <td>3</td>\n    </tr>\n    <tr>\n      <th>1</th>\n      <td>Jul 15, 2020</td>\n      <td>Oneoff-rebal</td>\n      <td>10626</td>\n      <td>cbonds</td>\n      <td>0.00</td>\n      <td>83.04</td>\n      <td>0.0</td>\n      <td>0.0</td>\n      <td>3</td>\n    </tr>\n    <tr>\n      <th>2</th>\n      <td>Jul 15, 2020</td>\n      <td>Oneoff-rebal</td>\n      <td>10626</td>\n      <td>sbonds</td>\n      <td>0.00</td>\n      <td>261.90</td>\n      <td>0.0</td>\n      <td>0.0</td>\n      <td>3</td>\n    </tr>\n    <tr>\n      <th>3</th>\n      <td>Jul 15, 2020</td>\n      <td>Oneoff-rebal</td>\n      <td>10626</td>\n      <td>gold</td>\n      <td>0.00</td>\n      <td>166.62</td>\n      <td>0.0</td>\n      <td>0.0</td>\n      <td>3</td>\n    </tr>\n    <tr>\n      <th>4</th>\n      <td>Jul 15, 2020</td>\n      <td>Oneoff-rebal</td>\n      <td>10626</td>\n      <td>cash</td>\n      <td>1.00</td>\n      <td>1.00</td>\n      <td>100000.0</td>\n      <td>100000.0</td>\n      <td>3</td>\n    </tr>\n    <tr>\n      <th>0</th>\n      <td>Aug 15, 2020</td>\n      <td>Oneoff-rebal</td>\n      <td>10626</td>\n      <td>stocks</td>\n      <td>0.00</td>\n      <td>186.69</td>\n      <td>0.0</td>\n      <td>0.0</td>\n      <td>3</td>\n    </tr>\n    <tr>\n      <th>1</th>\n      <td>Aug 15, 2020</td>\n      <td>Oneoff-rebal</td>\n      <td>10626</td>\n      <td>cbonds</td>\n      <td>0.00</td>\n      <td>83.04</td>\n      <td>0.0</td>\n      <td>0.0</td>\n      <td>3</td>\n    </tr>\n    <tr>\n      <th>2</th>\n      <td>Aug 15, 2020</td>\n      <td>Oneoff-rebal</td>\n      <td>10626</td>\n      <td>sbonds</td>\n      <td>0.00</td>\n      <td>261.90</td>\n      <td>0.0</td>\n      <td>0.0</td>\n      <td>3</td>\n    </tr>\n    <tr>\n      <th>3</th>\n      <td>Aug 15, 2020</td>\n      <td>Oneoff-rebal</td>\n      <td>10626</td>\n      <td>gold</td>\n      <td>0.00</td>\n      <td>166.62</td>\n      <td>0.0</td>\n      <td>0.0</td>\n      <td>3</td>\n    </tr>\n    <tr>\n      <th>4</th>\n      <td>Aug 15, 2020</td>\n      <td>Oneoff-rebal</td>\n      <td>10626</td>\n      <td>cash</td>\n      <td>1.00</td>\n      <td>1.00</td>\n      <td>100000.0</td>\n      <td>100000.0</td>\n      <td>3</td>\n    </tr>\n    <tr>\n      <th>0</th>\n      <td>Sep 15, 2020</td>\n      <td>Oneoff-rebal</td>\n      <td>10626</td>\n      <td>stocks</td>\n      <td>0.00</td>\n      <td>188.44</td>\n      <td>0.0</td>\n      <td>0.0</td>\n      <td>3</td>\n    </tr>\n    <tr>\n      <th>1</th>\n      <td>Sep 15, 2020</td>\n      <td>Oneoff-rebal</td>\n      <td>10626</td>\n      <td>cbonds</td>\n      <td>0.00</td>\n      <td>83.04</td>\n      <td>0.0</td>\n      <td>0.0</td>\n      <td>3</td>\n    </tr>\n    <tr>\n      <th>2</th>\n      <td>Sep 15, 2020</td>\n      <td>Oneoff-rebal</td>\n      <td>10626</td>\n      <td>sbonds</td>\n      <td>0.00</td>\n      <td>261.90</td>\n      <td>0.0</td>\n      <td>0.0</td>\n      <td>3</td>\n    </tr>\n    <tr>\n      <th>3</th>\n      <td>Sep 15, 2020</td>\n      <td>Oneoff-rebal</td>\n      <td>10626</td>\n      <td>gold</td>\n      <td>0.00</td>\n      <td>166.62</td>\n      <td>0.0</td>\n      <td>0.0</td>\n      <td>3</td>\n    </tr>\n    <tr>\n      <th>4</th>\n      <td>Sep 15, 2020</td>\n      <td>Oneoff-rebal</td>\n      <td>10626</td>\n      <td>cash</td>\n      <td>1.00</td>\n      <td>1.00</td>\n      <td>100000.0</td>\n      <td>100000.0</td>\n      <td>3</td>\n    </tr>\n  </tbody>\n</table>\n</div>",
      "text/plain": "               Date Trading method  Allocation no   Asset  Weight of asset  \\\n0      Aug 15, 2020   Oneoff-rebal          10624  stocks             0.00   \n1      Aug 15, 2020   Oneoff-rebal          10624  cbonds             0.00   \n2      Aug 15, 2020   Oneoff-rebal          10624  sbonds             0.00   \n3      Aug 15, 2020   Oneoff-rebal          10624    gold             0.10   \n4      Aug 15, 2020   Oneoff-rebal          10624    cash             0.90   \n0      Sep 15, 2020   Oneoff-rebal          10624  stocks             0.00   \n1      Sep 15, 2020   Oneoff-rebal          10624  cbonds             0.00   \n2      Sep 15, 2020   Oneoff-rebal          10624  sbonds             0.00   \n3      Sep 15, 2020   Oneoff-rebal          10624    gold             0.10   \n4      Sep 15, 2020   Oneoff-rebal          10624    cash             0.90   \n53120  Jul 01, 2020   Oneoff-rebal          10625  stocks             0.00   \n53121  Jul 01, 2020   Oneoff-rebal          10625  cbonds             0.00   \n53122  Jul 01, 2020   Oneoff-rebal          10625  sbonds             0.00   \n53123  Jul 01, 2020   Oneoff-rebal          10625    gold             0.05   \n53124  Jul 01, 2020   Oneoff-rebal          10625    cash             0.95   \n0      Jul 15, 2020   Oneoff-rebal          10625  stocks             0.00   \n1      Jul 15, 2020   Oneoff-rebal          10625  cbonds             0.00   \n2      Jul 15, 2020   Oneoff-rebal          10625  sbonds             0.00   \n3      Jul 15, 2020   Oneoff-rebal          10625    gold             0.05   \n4      Jul 15, 2020   Oneoff-rebal          10625    cash             0.95   \n0      Aug 15, 2020   Oneoff-rebal          10625  stocks             0.00   \n1      Aug 15, 2020   Oneoff-rebal          10625  cbonds             0.00   \n2      Aug 15, 2020   Oneoff-rebal          10625  sbonds             0.00   \n3      Aug 15, 2020   Oneoff-rebal          10625    gold             0.05   \n4      Aug 15, 2020   Oneoff-rebal          10625    cash             0.95   \n0      Sep 15, 2020   Oneoff-rebal          10625  stocks             0.00   \n1      Sep 15, 2020   Oneoff-rebal          10625  cbonds             0.00   \n2      Sep 15, 2020   Oneoff-rebal          10625  sbonds             0.00   \n3      Sep 15, 2020   Oneoff-rebal          10625    gold             0.05   \n4      Sep 15, 2020   Oneoff-rebal          10625    cash             0.95   \n53125  Jul 01, 2020   Oneoff-rebal          10626  stocks             0.00   \n53126  Jul 01, 2020   Oneoff-rebal          10626  cbonds             0.00   \n53127  Jul 01, 2020   Oneoff-rebal          10626  sbonds             0.00   \n53128  Jul 01, 2020   Oneoff-rebal          10626    gold             0.00   \n53129  Jul 01, 2020   Oneoff-rebal          10626    cash             1.00   \n0      Jul 15, 2020   Oneoff-rebal          10626  stocks             0.00   \n1      Jul 15, 2020   Oneoff-rebal          10626  cbonds             0.00   \n2      Jul 15, 2020   Oneoff-rebal          10626  sbonds             0.00   \n3      Jul 15, 2020   Oneoff-rebal          10626    gold             0.00   \n4      Jul 15, 2020   Oneoff-rebal          10626    cash             1.00   \n0      Aug 15, 2020   Oneoff-rebal          10626  stocks             0.00   \n1      Aug 15, 2020   Oneoff-rebal          10626  cbonds             0.00   \n2      Aug 15, 2020   Oneoff-rebal          10626  sbonds             0.00   \n3      Aug 15, 2020   Oneoff-rebal          10626    gold             0.00   \n4      Aug 15, 2020   Oneoff-rebal          10626    cash             1.00   \n0      Sep 15, 2020   Oneoff-rebal          10626  stocks             0.00   \n1      Sep 15, 2020   Oneoff-rebal          10626  cbonds             0.00   \n2      Sep 15, 2020   Oneoff-rebal          10626  sbonds             0.00   \n3      Sep 15, 2020   Oneoff-rebal          10626    gold             0.00   \n4      Sep 15, 2020   Oneoff-rebal          10626    cash             1.00   \n\n       Asset price  Amount to buy  Total spending  Investment period  \n0           186.69            0.0             0.0                  3  \n1            83.04            0.0             0.0                  3  \n2           261.90            0.0             0.0                  3  \n3           166.62           60.0          9997.2                  3  \n4             1.00        89997.0         89997.0                  3  \n0           188.44            0.0             0.0                  3  \n1            83.04            0.0             0.0                  3  \n2           261.90            0.0             0.0                  3  \n3           166.62           60.0          9997.2                  3  \n4             1.00        89997.0         89997.0                  3  \n53120       181.47            0.0             0.0                  3  \n53121        83.04            0.0             0.0                  3  \n53122       261.90            0.0             0.0                  3  \n53123       166.62           30.0          4998.6                  3  \n53124         1.00        95000.0         95000.0                  3  \n0           186.19            0.0             0.0                  3  \n1            83.04            0.0             0.0                  3  \n2           261.90            0.0             0.0                  3  \n3           166.62           30.0          4998.6                  3  \n4             1.00        94998.0         94998.0                  3  \n0           186.69            0.0             0.0                  3  \n1            83.04            0.0             0.0                  3  \n2           261.90            0.0             0.0                  3  \n3           166.62           30.0          4998.6                  3  \n4             1.00        94998.0         94998.0                  3  \n0           188.44            0.0             0.0                  3  \n1            83.04            0.0             0.0                  3  \n2           261.90            0.0             0.0                  3  \n3           166.62           30.0          4998.6                  3  \n4             1.00        94998.0         94998.0                  3  \n53125       181.47            0.0             0.0                  3  \n53126        83.04            0.0             0.0                  3  \n53127       261.90            0.0             0.0                  3  \n53128       166.62            0.0             0.0                  3  \n53129         1.00       100000.0        100000.0                  3  \n0           186.19            0.0             0.0                  3  \n1            83.04            0.0             0.0                  3  \n2           261.90            0.0             0.0                  3  \n3           166.62            0.0             0.0                  3  \n4             1.00       100000.0        100000.0                  3  \n0           186.69            0.0             0.0                  3  \n1            83.04            0.0             0.0                  3  \n2           261.90            0.0             0.0                  3  \n3           166.62            0.0             0.0                  3  \n4             1.00       100000.0        100000.0                  3  \n0           188.44            0.0             0.0                  3  \n1            83.04            0.0             0.0                  3  \n2           261.90            0.0             0.0                  3  \n3           166.62            0.0             0.0                  3  \n4             1.00       100000.0        100000.0                  3  "
     },
     "execution_count": 141,
     "metadata": {},
     "output_type": "execute_result"
    }
   ],
   "source": [
    "rebal_portofolio.tail(50)\r\n",
    "#Sort the df by allocation number\r\n",
    "\r\n",
    "#Write all in the csv file"
   ]
  },
  {
   "cell_type": "code",
   "execution_count": 40,
   "metadata": {},
   "outputs": [
    {
     "name": "stdout",
     "output_type": "stream",
     "text": [
      "0 [0.0, 1.0, 0.0, 0.0, 0.0, 0.0]\n",
      "1 [1.0, 0.95, 0.05, 0.0, 0.0, 0.0]\n",
      "2 [2.0, 0.95, 0.0, 0.05, 0.0, 0.0]\n",
      "3 [3.0, 0.95, 0.0, 0.0, 0.05, 0.0]\n",
      "4 [4.0, 0.95, 0.0, 0.0, 0.0, 0.05]\n",
      "5 [5.0, 0.9, 0.1, 0.0, 0.0, 0.0]\n",
      "6 [6.0, 0.9, 0.05, 0.05, 0.0, 0.0]\n",
      "7 [7.0, 0.9, 0.05, 0.0, 0.05, 0.0]\n",
      "8 [8.0, 0.9, 0.05, 0.0, 0.0, 0.05]\n",
      "9 [9.0, 0.9, 0.0, 0.1, 0.0, 0.0]\n"
     ]
    }
   ],
   "source": [
    "for iter, rows in list(portfolio_df.iterrows())[:10]:\r\n",
    "    print(iter, list(rows))"
   ]
  },
  {
   "cell_type": "code",
   "execution_count": 25,
   "metadata": {},
   "outputs": [
    {
     "data": {
      "text/plain": "12"
     },
     "execution_count": 25,
     "metadata": {},
     "output_type": "execute_result"
    }
   ],
   "source": [
    "datetime(2020, 12, 1).month"
   ]
  },
  {
   "cell_type": "code",
   "execution_count": 18,
   "metadata": {},
   "outputs": [
    {
     "name": "stdout",
     "output_type": "stream",
     "text": [
      "196.77\n"
     ]
    }
   ],
   "source": [
    "stocks_index = stocks_df.loc[stocks_df['Date'] == datetime(2020, 1, 15).strftime('%b %d, %Y')]\r\n",
    "stocks_price = stocks_index.iloc[0]['Price']\r\n",
    "print(stocks_price)"
   ]
  },
  {
   "cell_type": "code",
   "execution_count": 33,
   "metadata": {},
   "outputs": [
    {
     "data": {
      "text/plain": "['f', 'f', 'f', 'f', 'f']"
     },
     "execution_count": 33,
     "metadata": {},
     "output_type": "execute_result"
    }
   ],
   "source": [
    "['f' for _ in range(5)]"
   ]
  },
  {
   "cell_type": "code",
   "execution_count": null,
   "metadata": {},
   "outputs": [],
   "source": [
    "    \r\n",
    "\r\n",
    "\r\n",
    "\r\n",
    "#DCA, no rebalance\r\n",
    "monthly_inv = math.floor(amount/inv_period)\r\n",
    "\r\n",
    "        #check data availability for the entire period\r\n",
    "end_date = inv_date + relativedelta(months = inv_period)\r\n",
    "\r\n",
    "if stocks_df.loc[stocks_df['Date'] == end_date.strftime('%b %d, %Y')].empty:\r\n",
    "        print(\"no data for the entire period, stocks\")\r\n",
    "if sbonds_df.loc[sbonds_df['Date'] == end_date.strftime('%b %d, %Y')].empty:\r\n",
    "        print(\"no data for the entire period, sbonds\")\r\n",
    "if cbonds_df.loc[cbonds_df['Date'] == end_date.strftime('%b %d, %Y')].empty:\r\n",
    "        print(\"no data for the entire period, cbonds\")\r\n",
    "if gold_df.loc[gold_df['Date'] == end_date.strftime('%b %d, %Y')].empty:\r\n",
    "        print(\"no data for the entire period, gold\")\r\n",
    "\r\n",
    "for index, row in portfolio_df.iterrows():\r\n",
    "\r\n",
    "    allocation_index = row[0]\r\n",
    "    stocks_rate = row['ST']\r\n",
    "    cbonds_rate = row['CB']\r\n",
    "    sbonds_rate = row['PB']\r\n",
    "    gold_rate = row['GO']\r\n",
    "    usd_rate = row['CA']\r\n",
    "\r\n",
    "    stocks_monthly = stocks_rate*monthly_inv\r\n",
    "    cbonds_monthly = cbonds_rate*monthly_inv\r\n",
    "    sbonds_monthly = sbonds_rate*monthly_inv\r\n",
    "    gold_monthly = gold_rate*monthly_inv\r\n",
    "    usd_monthly = usd_rate*monthly_inv\r\n",
    "\r\n",
    "    stocks_sum = 0\r\n",
    "    cbonds_sum = 0\r\n",
    "    sbonds_sum = 0\r\n",
    "    gold_sum = 0\r\n",
    "    usd_sum = 0\r\n",
    "\r\n",
    "    stocks_cumm = 0\r\n",
    "    cbonds_cumm = 0\r\n",
    "    sbonds_cumm = 0\r\n",
    "    gold_cumm = 0\r\n",
    "    usd_cumm = 0\r\n",
    "    \r\n",
    "    for x in range(0, inv_period):\r\n",
    "            \r\n",
    "        curr_date = inv_date + relativedelta(months = x)\r\n",
    "\r\n",
    "        stocks_price =  stocks_df.loc[stocks_df['Date'] == curr_date.strftime('%b %d, %Y')].iloc[0]['Price']\r\n",
    "        cbonds_price =  cbonds_df.loc[cbonds_df['Date'] == curr_date.strftime('%b %d, %Y')].iloc[0]['Price']\r\n",
    "        sbonds_price =  sbonds_df.loc[sbonds_df['Date'] == curr_date.strftime('%b %d, %Y')].iloc[0]['Price']\r\n",
    "        gold_price =  gold_df.loc[gold_df['Date'] == curr_date.strftime('%b %d, %Y')].iloc[0]['Price']\r\n",
    "        usd_price = 1\r\n",
    "\r\n",
    "        stocks_amt = math.floor(stocks_monthly/stocks_price)\r\n",
    "        stocks_sum += stocks_amt\r\n",
    "        cbonds_amt = math.floor(cbonds_monthly/cbonds_price)\r\n",
    "        cbonds_sum += cbonds_amt\r\n",
    "        sbonds_amt = math.floor(sbonds_monthly/sbonds_price)\r\n",
    "        sbonds_sum += sbonds_amt\r\n",
    "        gold_amt = math.floor(gold_monthly/gold_price)\r\n",
    "        gold_sum += gold_amt\r\n",
    "        usd_amt = math.floor(usd_monthly/usd_price)\r\n",
    "        usd_sum += usd_amt\r\n",
    "\r\n",
    "         #amount of money to invest in each\r\n",
    "\r\n",
    "        stocks_spend = round(stocks_amt*stocks_price,2)\r\n",
    "        stocks_cumm += stocks_spend\r\n",
    "        cbonds_spend = round(cbonds_amt*cbonds_price,2)\r\n",
    "        cbonds_cumm += cbonds_spend\r\n",
    "        sbonds_spend = round(sbonds_amt*sbonds_price,2)\r\n",
    "        sbonds_cumm += sbonds_spend\r\n",
    "        gold_spend = round(gold_amt*gold_price,2)\r\n",
    "        gold_cumm += gold_spend\r\n",
    "        usd_spend = round(usd_amt*usd_price,2)\r\n",
    "        usd_cumm += gold_spend\r\n",
    "\r\n",
    "        output = []\r\n",
    "        output.append(tuple([inv_date.strftime('%b %d, %Y'),\"DCA\", str(index + 1),  \"stocks\", row['ST'], stocks_price, stocks_sum, stocks_cumm, inv_period]))\r\n",
    "        output.append(tuple([inv_date.strftime('%b %d, %Y'),\"DCA\",  str(index + 1),  \"sbonds\",row['CB'], cbonds_price, cbonds_sum, cbonds_cumm, inv_period]))\r\n",
    "        output.append(tuple([inv_date.strftime('%b %d, %Y'),\"DCA\", str(index + 1),  \"sbonds\", row['PB'], sbonds_price, sbonds_sum, sbonds_cumm, inv_period]))\r\n",
    "        output.append(tuple([inv_date.strftime('%b %d, %Y'),\"DCA\", str(index + 1),  \"gold\", row['GO'], gold_price, gold_sum, gold_cumm, inv_period]))\r\n",
    "        output.append(tuple([inv_date.strftime('%b %d, %Y'),\"DCA\", str(index + 1),  \"cash\", row['CA'], usd_price, usd_sum, usd_cumm, inv_period]))\r\n",
    "\r\n",
    "        with open(methodsFile, 'a+', newline = '') as file:\r\n",
    "                writer = csv.writer(file)\r\n",
    "                for x in output:\r\n",
    "                    writer.writerow(x)\r\n",
    "                    \r\n",
    "print(\"DCA, no rebalance done\")       \r\n",
    "#DCA, rebalance\r\n"
   ]
  }
 ],
 "metadata": {
  "kernelspec": {
   "display_name": "Python 3.7.9 64-bit (conda)",
   "name": "python379jvsc74a57bd08c582ba49a6c065c1b2a573e9441c53c7402ec5eb3ada4b88a416f96448db9c7"
  },
  "language_info": {
   "codemirror_mode": {
    "name": "ipython",
    "version": 3
   },
   "file_extension": ".py",
   "mimetype": "text/x-python",
   "name": "python",
   "nbconvert_exporter": "python",
   "pygments_lexer": "ipython3",
   "version": "3.7.9"
  },
  "orig_nbformat": 2
 },
 "nbformat": 4,
 "nbformat_minor": 2
}